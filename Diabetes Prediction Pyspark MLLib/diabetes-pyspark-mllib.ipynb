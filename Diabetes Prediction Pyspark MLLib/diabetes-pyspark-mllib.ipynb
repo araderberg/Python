{
 "cells": [
  {
   "cell_type": "markdown",
   "id": "9b8a0485",
   "metadata": {
    "papermill": {
     "duration": 0.015923,
     "end_time": "2024-02-29T18:32:00.698080",
     "exception": false,
     "start_time": "2024-02-29T18:32:00.682157",
     "status": "completed"
    },
    "tags": []
   },
   "source": [
    "# Diabetes data using PySpark MLlib (Machine Learning Library)"
   ]
  },
  {
   "cell_type": "code",
   "execution_count": 1,
   "id": "8399ccde",
   "metadata": {
    "execution": {
     "iopub.execute_input": "2024-02-29T18:32:00.730591Z",
     "iopub.status.busy": "2024-02-29T18:32:00.729690Z",
     "iopub.status.idle": "2024-02-29T18:32:58.192667Z",
     "shell.execute_reply": "2024-02-29T18:32:58.190924Z"
    },
    "executionInfo": {
     "elapsed": 51860,
     "status": "ok",
     "timestamp": 1709220119409,
     "user": {
      "displayName": "Raderberg VanDerBerg",
      "userId": "11445559743824918618"
     },
     "user_tz": 0
    },
    "id": "NpCRBcqtN5lH",
    "outputId": "524c0a69-c772-45be-91ed-da223c6ae822",
    "papermill": {
     "duration": 57.482987,
     "end_time": "2024-02-29T18:32:58.196035",
     "exception": false,
     "start_time": "2024-02-29T18:32:00.713048",
     "status": "completed"
    },
    "tags": []
   },
   "outputs": [
    {
     "name": "stdout",
     "output_type": "stream",
     "text": [
      "Collecting pyspark\r\n",
      "  Downloading pyspark-3.5.1.tar.gz (317.0 MB)\r\n",
      "\u001b[2K     \u001b[90m━━━━━━━━━━━━━━━━━━━━━━━━━━━━━━━━━━━━━━━\u001b[0m \u001b[32m317.0/317.0 MB\u001b[0m \u001b[31m4.5 MB/s\u001b[0m eta \u001b[36m0:00:00\u001b[0m\r\n",
      "\u001b[?25h  Preparing metadata (setup.py) ... \u001b[?25l-\b \b\\\b \bdone\r\n",
      "\u001b[?25hRequirement already satisfied: py4j==0.10.9.7 in /opt/conda/lib/python3.10/site-packages (from pyspark) (0.10.9.7)\r\n",
      "Building wheels for collected packages: pyspark\r\n",
      "  Building wheel for pyspark (setup.py) ... \u001b[?25l-\b \b\\\b \b|\b \bdone\r\n",
      "\u001b[?25h  Created wheel for pyspark: filename=pyspark-3.5.1-py2.py3-none-any.whl size=317488493 sha256=5feccfcb1b3eb46299da634e7bdb5a2021633b5f2bfd7b7e1fbf8295954bdc03\r\n",
      "  Stored in directory: /root/.cache/pip/wheels/80/1d/60/2c256ed38dddce2fdd93be545214a63e02fbd8d74fb0b7f3a6\r\n",
      "Successfully built pyspark\r\n",
      "Installing collected packages: pyspark\r\n",
      "Successfully installed pyspark-3.5.1\r\n"
     ]
    }
   ],
   "source": [
    "#install pyspark\n",
    "! pip install pyspark"
   ]
  },
  {
   "cell_type": "code",
   "execution_count": 2,
   "id": "88650567",
   "metadata": {
    "execution": {
     "iopub.execute_input": "2024-02-29T18:32:58.253305Z",
     "iopub.status.busy": "2024-02-29T18:32:58.252860Z",
     "iopub.status.idle": "2024-02-29T18:33:04.650946Z",
     "shell.execute_reply": "2024-02-29T18:33:04.649713Z"
    },
    "executionInfo": {
     "elapsed": 7808,
     "status": "ok",
     "timestamp": 1709220178888,
     "user": {
      "displayName": "Raderberg VanDerBerg",
      "userId": "11445559743824918618"
     },
     "user_tz": 0
    },
    "id": "GNZoOuDqOdxX",
    "papermill": {
     "duration": 6.432144,
     "end_time": "2024-02-29T18:33:04.654509",
     "exception": false,
     "start_time": "2024-02-29T18:32:58.222365",
     "status": "completed"
    },
    "tags": []
   },
   "outputs": [
    {
     "name": "stderr",
     "output_type": "stream",
     "text": [
      "Setting default log level to \"WARN\".\n",
      "To adjust logging level use sc.setLogLevel(newLevel). For SparkR, use setLogLevel(newLevel).\n",
      "24/02/29 18:33:02 WARN NativeCodeLoader: Unable to load native-hadoop library for your platform... using builtin-java classes where applicable\n"
     ]
    }
   ],
   "source": [
    "#create a spark session\n",
    "#depending on computer setup, code may give a warning, hence, added the WARN log below\n",
    "from pyspark.sql import SparkSession\n",
    "\n",
    "# Initialize SparkSession\n",
    "spark = SparkSession.builder \\\n",
    "    .appName(\"spark\") \\\n",
    "    .getOrCreate()\n",
    "\n",
    "# Set logging level to WARN\n",
    "spark.sparkContext.setLogLevel(\"WARN\")"
   ]
  },
  {
   "cell_type": "markdown",
   "id": "65e11b30",
   "metadata": {
    "id": "5sG3MLXlOews",
    "papermill": {
     "duration": 0.031199,
     "end_time": "2024-02-29T18:33:04.729079",
     "exception": false,
     "start_time": "2024-02-29T18:33:04.697880",
     "status": "completed"
    },
    "tags": []
   },
   "source": [
    "# Load and Explore dataset"
   ]
  },
  {
   "cell_type": "code",
   "execution_count": 3,
   "id": "3ec094fc",
   "metadata": {
    "execution": {
     "iopub.execute_input": "2024-02-29T18:33:04.791036Z",
     "iopub.status.busy": "2024-02-29T18:33:04.789659Z",
     "iopub.status.idle": "2024-02-29T18:33:04.795594Z",
     "shell.execute_reply": "2024-02-29T18:33:04.794735Z"
    },
    "executionInfo": {
     "elapsed": 1032,
     "status": "ok",
     "timestamp": 1709220350018,
     "user": {
      "displayName": "Raderberg VanDerBerg",
      "userId": "11445559743824918618"
     },
     "user_tz": 0
    },
    "id": "-Uh5H7_KOoSL",
    "outputId": "1dd1f2c0-1f4e-4e1f-cd1d-9ba990235e94",
    "papermill": {
     "duration": 0.041035,
     "end_time": "2024-02-29T18:33:04.798060",
     "exception": false,
     "start_time": "2024-02-29T18:33:04.757025",
     "status": "completed"
    },
    "tags": []
   },
   "outputs": [],
   "source": [
    "#option 1: clone the diabetes dataset from the github repository\n",
    "#! git clone https://github.com/education454/diabetes_dataset\n",
    "\n",
    "#option 2: upload manually via upload or +add input url in kaggle"
   ]
  },
  {
   "cell_type": "code",
   "execution_count": 4,
   "id": "127a5cff",
   "metadata": {
    "execution": {
     "iopub.execute_input": "2024-02-29T18:33:04.852329Z",
     "iopub.status.busy": "2024-02-29T18:33:04.851796Z",
     "iopub.status.idle": "2024-02-29T18:33:12.754651Z",
     "shell.execute_reply": "2024-02-29T18:33:12.753226Z"
    },
    "executionInfo": {
     "elapsed": 9435,
     "status": "ok",
     "timestamp": 1709220676732,
     "user": {
      "displayName": "Raderberg VanDerBerg",
      "userId": "11445559743824918618"
     },
     "user_tz": 0
    },
    "id": "ST1rFFOlOu8s",
    "papermill": {
     "duration": 7.935777,
     "end_time": "2024-02-29T18:33:12.759811",
     "exception": false,
     "start_time": "2024-02-29T18:33:04.824034",
     "status": "completed"
    },
    "tags": []
   },
   "outputs": [],
   "source": [
    "#create spark dataframe\n",
    "df = spark.read.csv(\"/kaggle/input/diabetes-prediction/diabetes_dataset/diabetes.csv\", header=True, inferSchema=True)"
   ]
  },
  {
   "cell_type": "code",
   "execution_count": 5,
   "id": "f6217ad5",
   "metadata": {
    "execution": {
     "iopub.execute_input": "2024-02-29T18:33:12.826287Z",
     "iopub.status.busy": "2024-02-29T18:33:12.825757Z",
     "iopub.status.idle": "2024-02-29T18:33:13.402533Z",
     "shell.execute_reply": "2024-02-29T18:33:13.401172Z"
    },
    "executionInfo": {
     "elapsed": 1404,
     "status": "ok",
     "timestamp": 1709220678782,
     "user": {
      "displayName": "Raderberg VanDerBerg",
      "userId": "11445559743824918618"
     },
     "user_tz": 0
    },
    "id": "IiJm-pmROvKd",
    "outputId": "10f1fd6d-c49e-4636-f476-719edc3a7cfb",
    "papermill": {
     "duration": 0.608689,
     "end_time": "2024-02-29T18:33:13.406437",
     "exception": false,
     "start_time": "2024-02-29T18:33:12.797748",
     "status": "completed"
    },
    "tags": []
   },
   "outputs": [
    {
     "name": "stdout",
     "output_type": "stream",
     "text": [
      "+-----------+-------+-------------+-------------+-------+----+------------------------+---+-------+\n",
      "|Pregnancies|Glucose|BloodPressure|SkinThickness|Insulin| BMI|DiabetesPedigreeFunction|Age|Outcome|\n",
      "+-----------+-------+-------------+-------------+-------+----+------------------------+---+-------+\n",
      "|          2|    138|           62|           35|      0|33.6|                   0.127| 47|      1|\n",
      "|          0|     84|           82|           31|    125|38.2|                   0.233| 23|      0|\n",
      "|          0|    145|            0|            0|      0|44.2|                    0.63| 31|      1|\n",
      "|          0|    135|           68|           42|    250|42.3|                   0.365| 24|      1|\n",
      "|          1|    139|           62|           41|    480|40.7|                   0.536| 21|      0|\n",
      "|          0|    173|           78|           32|    265|46.5|                   1.159| 58|      0|\n",
      "|          4|     99|           72|           17|      0|25.6|                   0.294| 28|      0|\n",
      "|          8|    194|           80|            0|      0|26.1|                   0.551| 67|      0|\n",
      "|          2|     83|           65|           28|     66|36.8|                   0.629| 24|      0|\n",
      "|          2|     89|           90|           30|      0|33.5|                   0.292| 42|      0|\n",
      "|          4|     99|           68|           38|      0|32.8|                   0.145| 33|      0|\n",
      "|          4|    125|           70|           18|    122|28.9|                   1.144| 45|      1|\n",
      "|          3|     80|            0|            0|      0| 0.0|                   0.174| 22|      0|\n",
      "|          6|    166|           74|            0|      0|26.6|                   0.304| 66|      0|\n",
      "|          5|    110|           68|            0|      0|26.0|                   0.292| 30|      0|\n",
      "|          2|     81|           72|           15|     76|30.1|                   0.547| 25|      0|\n",
      "|          7|    195|           70|           33|    145|25.1|                   0.163| 55|      1|\n",
      "|          6|    154|           74|           32|    193|29.3|                   0.839| 39|      0|\n",
      "|          2|    117|           90|           19|     71|25.2|                   0.313| 21|      0|\n",
      "|          3|     84|           72|           32|      0|37.2|                   0.267| 28|      0|\n",
      "+-----------+-------+-------------+-------------+-------+----+------------------------+---+-------+\n",
      "only showing top 20 rows\n",
      "\n"
     ]
    }
   ],
   "source": [
    "#display the dataframe\n",
    "df.show()"
   ]
  },
  {
   "cell_type": "code",
   "execution_count": 6,
   "id": "eeb00e66",
   "metadata": {
    "execution": {
     "iopub.execute_input": "2024-02-29T18:33:13.482514Z",
     "iopub.status.busy": "2024-02-29T18:33:13.481856Z",
     "iopub.status.idle": "2024-02-29T18:33:13.491169Z",
     "shell.execute_reply": "2024-02-29T18:33:13.489975Z"
    },
    "executionInfo": {
     "elapsed": 379,
     "status": "ok",
     "timestamp": 1709220756143,
     "user": {
      "displayName": "Raderberg VanDerBerg",
      "userId": "11445559743824918618"
     },
     "user_tz": 0
    },
    "id": "Ulqkuz8aOvV6",
    "outputId": "51a6ab38-8ab8-4166-ec76-71d22d819053",
    "papermill": {
     "duration": 0.050937,
     "end_time": "2024-02-29T18:33:13.494204",
     "exception": false,
     "start_time": "2024-02-29T18:33:13.443267",
     "status": "completed"
    },
    "tags": []
   },
   "outputs": [
    {
     "name": "stdout",
     "output_type": "stream",
     "text": [
      "root\n",
      " |-- Pregnancies: integer (nullable = true)\n",
      " |-- Glucose: integer (nullable = true)\n",
      " |-- BloodPressure: integer (nullable = true)\n",
      " |-- SkinThickness: integer (nullable = true)\n",
      " |-- Insulin: integer (nullable = true)\n",
      " |-- BMI: double (nullable = true)\n",
      " |-- DiabetesPedigreeFunction: double (nullable = true)\n",
      " |-- Age: integer (nullable = true)\n",
      " |-- Outcome: integer (nullable = true)\n",
      "\n"
     ]
    }
   ],
   "source": [
    "#print the schema\n",
    "df.printSchema()"
   ]
  },
  {
   "cell_type": "code",
   "execution_count": 7,
   "id": "dec6a3b9",
   "metadata": {
    "execution": {
     "iopub.execute_input": "2024-02-29T18:33:13.569258Z",
     "iopub.status.busy": "2024-02-29T18:33:13.568086Z",
     "iopub.status.idle": "2024-02-29T18:33:15.679445Z",
     "shell.execute_reply": "2024-02-29T18:33:15.677876Z"
    },
    "executionInfo": {
     "elapsed": 2101,
     "status": "ok",
     "timestamp": 1709220884369,
     "user": {
      "displayName": "Raderberg VanDerBerg",
      "userId": "11445559743824918618"
     },
     "user_tz": 0
    },
    "id": "kpZlF2S2Ovgw",
    "outputId": "83111322-e9cd-4d94-cef9-a9e248441b37",
    "papermill": {
     "duration": 2.154454,
     "end_time": "2024-02-29T18:33:15.684159",
     "exception": false,
     "start_time": "2024-02-29T18:33:13.529705",
     "status": "completed"
    },
    "tags": []
   },
   "outputs": [
    {
     "name": "stdout",
     "output_type": "stream",
     "text": [
      "(2000, 9)\n",
      "+-------+-----+\n",
      "|Outcome|count|\n",
      "+-------+-----+\n",
      "|      1|  684|\n",
      "|      0| 1316|\n",
      "+-------+-----+\n",
      "\n"
     ]
    }
   ],
   "source": [
    "#count the total no. of diabetic and non-diabetic class\n",
    "print((df.count(),len(df.columns)))\n",
    "df.groupBy('Outcome').count().show()"
   ]
  },
  {
   "cell_type": "code",
   "execution_count": 8,
   "id": "7057637d",
   "metadata": {
    "execution": {
     "iopub.execute_input": "2024-02-29T18:33:15.780829Z",
     "iopub.status.busy": "2024-02-29T18:33:15.780217Z",
     "iopub.status.idle": "2024-02-29T18:33:17.799064Z",
     "shell.execute_reply": "2024-02-29T18:33:17.797694Z"
    },
    "executionInfo": {
     "elapsed": 3674,
     "status": "ok",
     "timestamp": 1709220927247,
     "user": {
      "displayName": "Raderberg VanDerBerg",
      "userId": "11445559743824918618"
     },
     "user_tz": 0
    },
    "id": "NewCNZEMOvtM",
    "outputId": "15cb945a-9bf0-4869-de94-1cdd442fa5b1",
    "papermill": {
     "duration": 2.065,
     "end_time": "2024-02-29T18:33:17.802926",
     "exception": false,
     "start_time": "2024-02-29T18:33:15.737926",
     "status": "completed"
    },
    "tags": []
   },
   "outputs": [
    {
     "name": "stdout",
     "output_type": "stream",
     "text": [
      "+-------+-----------------+------------------+------------------+-----------------+-----------------+------------------+------------------------+------------------+------------------+\n",
      "|summary|      Pregnancies|           Glucose|     BloodPressure|    SkinThickness|          Insulin|               BMI|DiabetesPedigreeFunction|               Age|           Outcome|\n",
      "+-------+-----------------+------------------+------------------+-----------------+-----------------+------------------+------------------------+------------------+------------------+\n",
      "|  count|             2000|              2000|              2000|             2000|             2000|              2000|                    2000|              2000|              2000|\n",
      "|   mean|           3.7035|          121.1825|           69.1455|           20.935|           80.254|32.192999999999984|     0.47092999999999974|           33.0905|             0.342|\n",
      "| stddev|3.306063032730656|32.068635649902916|19.188314815604098|16.10324290992682|111.1805335457595| 8.149900701279762|      0.3235525586811429|11.786423106049496|0.4744982342297426|\n",
      "|    min|                0|                 0|                 0|                0|                0|               0.0|                   0.078|                21|                 0|\n",
      "|    max|               17|               199|               122|              110|              744|              80.6|                    2.42|                81|                 1|\n",
      "+-------+-----------------+------------------+------------------+-----------------+-----------------+------------------+------------------------+------------------+------------------+\n",
      "\n"
     ]
    }
   ],
   "source": [
    "# Set the maximum number of fields shown in string representation of plans\n",
    "spark.conf.set(\"spark.sql.debug.maxToStringFields\", 100)\n",
    "\n",
    "# Perform describe operation on DataFrame and show the result\n",
    "#summary statistics\n",
    "df.describe().show()"
   ]
  },
  {
   "cell_type": "markdown",
   "id": "9dd116d2",
   "metadata": {
    "id": "gZerPOR-OyjQ",
    "papermill": {
     "duration": 0.036932,
     "end_time": "2024-02-29T18:33:17.878554",
     "exception": false,
     "start_time": "2024-02-29T18:33:17.841622",
     "status": "completed"
    },
    "tags": []
   },
   "source": [
    "# Data Cleaning & Preparation"
   ]
  },
  {
   "cell_type": "code",
   "execution_count": 9,
   "id": "86452bfe",
   "metadata": {
    "execution": {
     "iopub.execute_input": "2024-02-29T18:33:17.955230Z",
     "iopub.status.busy": "2024-02-29T18:33:17.954428Z",
     "iopub.status.idle": "2024-02-29T18:33:20.000433Z",
     "shell.execute_reply": "2024-02-29T18:33:19.999046Z"
    },
    "executionInfo": {
     "elapsed": 3954,
     "status": "ok",
     "timestamp": 1709221211463,
     "user": {
      "displayName": "Raderberg VanDerBerg",
      "userId": "11445559743824918618"
     },
     "user_tz": 0
    },
    "id": "Q-KkJvV_PFFU",
    "outputId": "81c310d2-6216-4288-9ca1-d9d892359999",
    "papermill": {
     "duration": 2.087595,
     "end_time": "2024-02-29T18:33:20.004242",
     "exception": false,
     "start_time": "2024-02-29T18:33:17.916647",
     "status": "completed"
    },
    "tags": []
   },
   "outputs": [
    {
     "name": "stdout",
     "output_type": "stream",
     "text": [
      "Pregnancies: 0\n",
      "Glucose: 0\n",
      "BloodPressure: 0\n",
      "SkinThickness: 0\n",
      "Insulin: 0\n",
      "BMI: 0\n",
      "DiabetesPedigreeFunction: 0\n",
      "Age: 0\n",
      "Outcome: 0\n"
     ]
    }
   ],
   "source": [
    "#check for null values\n",
    "for col in df.columns:\n",
    "  print(col+\":\",df[df[col].isNull()].count())"
   ]
  },
  {
   "cell_type": "code",
   "execution_count": 10,
   "id": "fec1c17f",
   "metadata": {
    "execution": {
     "iopub.execute_input": "2024-02-29T18:33:20.063112Z",
     "iopub.status.busy": "2024-02-29T18:33:20.062599Z",
     "iopub.status.idle": "2024-02-29T18:33:20.069402Z",
     "shell.execute_reply": "2024-02-29T18:33:20.068112Z"
    },
    "executionInfo": {
     "elapsed": 213,
     "status": "ok",
     "timestamp": 1709221426068,
     "user": {
      "displayName": "Raderberg VanDerBerg",
      "userId": "11445559743824918618"
     },
     "user_tz": 0
    },
    "id": "ZJsbgwZMPFQC",
    "papermill": {
     "duration": 0.039072,
     "end_time": "2024-02-29T18:33:20.071936",
     "exception": false,
     "start_time": "2024-02-29T18:33:20.032864",
     "status": "completed"
    },
    "tags": []
   },
   "outputs": [],
   "source": [
    "#look for the unnecessary values present\n",
    "def count_zeros():\n",
    "  columns_list =['Glucose','BloodPressure','SkinThickness','Insulin','BMI']\n",
    "  for i in columns_list:\n",
    "    print(i+\":\",df[df[i]==0].count())"
   ]
  },
  {
   "cell_type": "code",
   "execution_count": 11,
   "id": "b2c24613",
   "metadata": {
    "execution": {
     "iopub.execute_input": "2024-02-29T18:33:20.128765Z",
     "iopub.status.busy": "2024-02-29T18:33:20.127817Z",
     "iopub.status.idle": "2024-02-29T18:33:21.580746Z",
     "shell.execute_reply": "2024-02-29T18:33:21.579419Z"
    },
    "executionInfo": {
     "elapsed": 1852,
     "status": "ok",
     "timestamp": 1709221948338,
     "user": {
      "displayName": "Raderberg VanDerBerg",
      "userId": "11445559743824918618"
     },
     "user_tz": 0
    },
    "id": "VXemdtaPPFmA",
    "outputId": "7c26f8f5-925b-457e-f09a-313b8af2ff8c",
    "papermill": {
     "duration": 1.486182,
     "end_time": "2024-02-29T18:33:21.585370",
     "exception": false,
     "start_time": "2024-02-29T18:33:20.099188",
     "status": "completed"
    },
    "tags": []
   },
   "outputs": [
    {
     "name": "stdout",
     "output_type": "stream",
     "text": [
      "mean value for Glucose is 121\n",
      "mean value for BloodPressure is 69\n",
      "mean value for SkinThickness is 20\n",
      "mean value for Insulin is 80\n",
      "mean value for BMI is 32\n"
     ]
    }
   ],
   "source": [
    "#calculate and replace the unnecessary values by the mean value\n",
    "from pyspark.sql.functions import *\n",
    "for i in df.columns[1:6]:\n",
    "  data = df.agg({i:'mean'}).first()[0]\n",
    "  print(\"mean value for {} is {}\".format(i,int(data)))\n",
    "  df = df.withColumn(i,when(df[i]==0,int(data)).otherwise(df[i]))"
   ]
  },
  {
   "cell_type": "code",
   "execution_count": 12,
   "id": "a9afc574",
   "metadata": {
    "execution": {
     "iopub.execute_input": "2024-02-29T18:33:21.669820Z",
     "iopub.status.busy": "2024-02-29T18:33:21.669304Z",
     "iopub.status.idle": "2024-02-29T18:33:21.888744Z",
     "shell.execute_reply": "2024-02-29T18:33:21.887657Z"
    },
    "executionInfo": {
     "elapsed": 474,
     "status": "ok",
     "timestamp": 1709221977548,
     "user": {
      "displayName": "Raderberg VanDerBerg",
      "userId": "11445559743824918618"
     },
     "user_tz": 0
    },
    "id": "C0bk0Ps_PFwk",
    "outputId": "b1df4c6e-0368-49b7-8de2-88a64aadacf8",
    "papermill": {
     "duration": 0.266151,
     "end_time": "2024-02-29T18:33:21.893511",
     "exception": false,
     "start_time": "2024-02-29T18:33:21.627360",
     "status": "completed"
    },
    "tags": []
   },
   "outputs": [
    {
     "name": "stdout",
     "output_type": "stream",
     "text": [
      "+-----------+-------+-------------+-------------+-------+----+------------------------+---+-------+\n",
      "|Pregnancies|Glucose|BloodPressure|SkinThickness|Insulin| BMI|DiabetesPedigreeFunction|Age|Outcome|\n",
      "+-----------+-------+-------------+-------------+-------+----+------------------------+---+-------+\n",
      "|          2|    138|           62|           35|     80|33.6|                   0.127| 47|      1|\n",
      "|          0|     84|           82|           31|    125|38.2|                   0.233| 23|      0|\n",
      "|          0|    145|           69|           20|     80|44.2|                    0.63| 31|      1|\n",
      "|          0|    135|           68|           42|    250|42.3|                   0.365| 24|      1|\n",
      "|          1|    139|           62|           41|    480|40.7|                   0.536| 21|      0|\n",
      "|          0|    173|           78|           32|    265|46.5|                   1.159| 58|      0|\n",
      "|          4|     99|           72|           17|     80|25.6|                   0.294| 28|      0|\n",
      "|          8|    194|           80|           20|     80|26.1|                   0.551| 67|      0|\n",
      "|          2|     83|           65|           28|     66|36.8|                   0.629| 24|      0|\n",
      "|          2|     89|           90|           30|     80|33.5|                   0.292| 42|      0|\n",
      "|          4|     99|           68|           38|     80|32.8|                   0.145| 33|      0|\n",
      "|          4|    125|           70|           18|    122|28.9|                   1.144| 45|      1|\n",
      "|          3|     80|           69|           20|     80|32.0|                   0.174| 22|      0|\n",
      "|          6|    166|           74|           20|     80|26.6|                   0.304| 66|      0|\n",
      "|          5|    110|           68|           20|     80|26.0|                   0.292| 30|      0|\n",
      "|          2|     81|           72|           15|     76|30.1|                   0.547| 25|      0|\n",
      "|          7|    195|           70|           33|    145|25.1|                   0.163| 55|      1|\n",
      "|          6|    154|           74|           32|    193|29.3|                   0.839| 39|      0|\n",
      "|          2|    117|           90|           19|     71|25.2|                   0.313| 21|      0|\n",
      "|          3|     84|           72|           32|     80|37.2|                   0.267| 28|      0|\n",
      "+-----------+-------+-------------+-------------+-------+----+------------------------+---+-------+\n",
      "only showing top 20 rows\n",
      "\n"
     ]
    }
   ],
   "source": [
    "#display the dataframe\n",
    "#all values where zero(0) was present has been modified with the mean value\n",
    "df.show()"
   ]
  },
  {
   "cell_type": "markdown",
   "id": "b6b1542e",
   "metadata": {
    "id": "LOgSTdBpPs7G",
    "papermill": {
     "duration": 0.027785,
     "end_time": "2024-02-29T18:33:21.960083",
     "exception": false,
     "start_time": "2024-02-29T18:33:21.932298",
     "status": "completed"
    },
    "tags": []
   },
   "source": [
    "# Correlation Analysis & Feature Selection"
   ]
  },
  {
   "cell_type": "code",
   "execution_count": 13,
   "id": "eb9dd4b0",
   "metadata": {
    "execution": {
     "iopub.execute_input": "2024-02-29T18:33:22.019165Z",
     "iopub.status.busy": "2024-02-29T18:33:22.018708Z",
     "iopub.status.idle": "2024-02-29T18:33:24.631023Z",
     "shell.execute_reply": "2024-02-29T18:33:24.629534Z"
    },
    "executionInfo": {
     "elapsed": 4506,
     "status": "ok",
     "timestamp": 1709222250733,
     "user": {
      "displayName": "Raderberg VanDerBerg",
      "userId": "11445559743824918618"
     },
     "user_tz": 0
    },
    "id": "7Eq6jdcFP_3C",
    "outputId": "87b8abc6-8e51-4af1-aae5-56df15bd4c53",
    "papermill": {
     "duration": 2.648843,
     "end_time": "2024-02-29T18:33:24.636646",
     "exception": false,
     "start_time": "2024-02-29T18:33:21.987803",
     "status": "completed"
    },
    "tags": []
   },
   "outputs": [
    {
     "name": "stdout",
     "output_type": "stream",
     "text": [
      "Correlation to outcome for Pregnancies is 0.22443699263363961\n",
      "Correlation to outcome for Glucose is 0.48796646527321064\n",
      "Correlation to outcome for BloodPressure is 0.17171333286446713\n",
      "Correlation to outcome for SkinThickness is 0.1659010662889893\n",
      "Correlation to outcome for Insulin is 0.1711763270226193\n",
      "Correlation to outcome for BMI is 0.2827927569760082\n",
      "Correlation to outcome for DiabetesPedigreeFunction is 0.1554590791569403\n",
      "Correlation to outcome for Age is 0.23650924717620253\n",
      "Correlation to outcome for Outcome is 1.0\n"
     ]
    }
   ],
   "source": [
    "#find the correlation among the set of input & output variables\n",
    "for i in df.columns:\n",
    "  print(\"Correlation to outcome for {} is {}\".format(i,df.stat.corr('Outcome',i)))"
   ]
  },
  {
   "cell_type": "code",
   "execution_count": 14,
   "id": "7399a99b",
   "metadata": {
    "execution": {
     "iopub.execute_input": "2024-02-29T18:33:24.731647Z",
     "iopub.status.busy": "2024-02-29T18:33:24.731026Z",
     "iopub.status.idle": "2024-02-29T18:33:25.610314Z",
     "shell.execute_reply": "2024-02-29T18:33:25.609139Z"
    },
    "executionInfo": {
     "elapsed": 646,
     "status": "ok",
     "timestamp": 1709222827163,
     "user": {
      "displayName": "Raderberg VanDerBerg",
      "userId": "11445559743824918618"
     },
     "user_tz": 0
    },
    "id": "Fl7Edj-OQACn",
    "papermill": {
     "duration": 0.928845,
     "end_time": "2024-02-29T18:33:25.613666",
     "exception": false,
     "start_time": "2024-02-29T18:33:24.684821",
     "status": "completed"
    },
    "tags": []
   },
   "outputs": [],
   "source": [
    "#feature selection\n",
    "from pyspark.ml.feature import VectorAssembler\n",
    "assembler = VectorAssembler(inputCols=['Pregnancies','Glucose','BloodPressure','SkinThickness','Insulin','BMI','Age','DiabetesPedigreeFunction'],outputCol='features')\n",
    "output_data = assembler.transform(df)"
   ]
  },
  {
   "cell_type": "code",
   "execution_count": 15,
   "id": "2a1ca1c7",
   "metadata": {
    "execution": {
     "iopub.execute_input": "2024-02-29T18:33:25.675884Z",
     "iopub.status.busy": "2024-02-29T18:33:25.675415Z",
     "iopub.status.idle": "2024-02-29T18:33:25.682847Z",
     "shell.execute_reply": "2024-02-29T18:33:25.681492Z"
    },
    "executionInfo": {
     "elapsed": 209,
     "status": "ok",
     "timestamp": 1709222855777,
     "user": {
      "displayName": "Raderberg VanDerBerg",
      "userId": "11445559743824918618"
     },
     "user_tz": 0
    },
    "id": "mJKrfqdaQAOy",
    "outputId": "2c2b94fc-ca48-4423-ca40-119c2aa10eaf",
    "papermill": {
     "duration": 0.041711,
     "end_time": "2024-02-29T18:33:25.685713",
     "exception": false,
     "start_time": "2024-02-29T18:33:25.644002",
     "status": "completed"
    },
    "tags": []
   },
   "outputs": [
    {
     "name": "stdout",
     "output_type": "stream",
     "text": [
      "root\n",
      " |-- Pregnancies: integer (nullable = true)\n",
      " |-- Glucose: integer (nullable = true)\n",
      " |-- BloodPressure: integer (nullable = true)\n",
      " |-- SkinThickness: integer (nullable = true)\n",
      " |-- Insulin: integer (nullable = true)\n",
      " |-- BMI: double (nullable = true)\n",
      " |-- DiabetesPedigreeFunction: double (nullable = true)\n",
      " |-- Age: integer (nullable = true)\n",
      " |-- Outcome: integer (nullable = true)\n",
      " |-- features: vector (nullable = true)\n",
      "\n"
     ]
    }
   ],
   "source": [
    "#print the schema\n",
    "output_data.printSchema()"
   ]
  },
  {
   "cell_type": "code",
   "execution_count": 16,
   "id": "7c8ac5fa",
   "metadata": {
    "execution": {
     "iopub.execute_input": "2024-02-29T18:33:25.747489Z",
     "iopub.status.busy": "2024-02-29T18:33:25.746537Z",
     "iopub.status.idle": "2024-02-29T18:33:26.284897Z",
     "shell.execute_reply": "2024-02-29T18:33:26.283484Z"
    },
    "executionInfo": {
     "elapsed": 1445,
     "status": "ok",
     "timestamp": 1709222884806,
     "user": {
      "displayName": "Raderberg VanDerBerg",
      "userId": "11445559743824918618"
     },
     "user_tz": 0
    },
    "id": "FURl7qESQAaQ",
    "outputId": "67229999-3b0c-4f90-b4e3-154707aeb8f5",
    "papermill": {
     "duration": 0.57395,
     "end_time": "2024-02-29T18:33:26.288393",
     "exception": false,
     "start_time": "2024-02-29T18:33:25.714443",
     "status": "completed"
    },
    "tags": []
   },
   "outputs": [
    {
     "name": "stdout",
     "output_type": "stream",
     "text": [
      "+-----------+-------+-------------+-------------+-------+----+------------------------+---+-------+--------------------+\n",
      "|Pregnancies|Glucose|BloodPressure|SkinThickness|Insulin| BMI|DiabetesPedigreeFunction|Age|Outcome|            features|\n",
      "+-----------+-------+-------------+-------------+-------+----+------------------------+---+-------+--------------------+\n",
      "|          2|    138|           62|           35|     80|33.6|                   0.127| 47|      1|[2.0,138.0,62.0,3...|\n",
      "|          0|     84|           82|           31|    125|38.2|                   0.233| 23|      0|[0.0,84.0,82.0,31...|\n",
      "|          0|    145|           69|           20|     80|44.2|                    0.63| 31|      1|[0.0,145.0,69.0,2...|\n",
      "|          0|    135|           68|           42|    250|42.3|                   0.365| 24|      1|[0.0,135.0,68.0,4...|\n",
      "|          1|    139|           62|           41|    480|40.7|                   0.536| 21|      0|[1.0,139.0,62.0,4...|\n",
      "|          0|    173|           78|           32|    265|46.5|                   1.159| 58|      0|[0.0,173.0,78.0,3...|\n",
      "|          4|     99|           72|           17|     80|25.6|                   0.294| 28|      0|[4.0,99.0,72.0,17...|\n",
      "|          8|    194|           80|           20|     80|26.1|                   0.551| 67|      0|[8.0,194.0,80.0,2...|\n",
      "|          2|     83|           65|           28|     66|36.8|                   0.629| 24|      0|[2.0,83.0,65.0,28...|\n",
      "|          2|     89|           90|           30|     80|33.5|                   0.292| 42|      0|[2.0,89.0,90.0,30...|\n",
      "|          4|     99|           68|           38|     80|32.8|                   0.145| 33|      0|[4.0,99.0,68.0,38...|\n",
      "|          4|    125|           70|           18|    122|28.9|                   1.144| 45|      1|[4.0,125.0,70.0,1...|\n",
      "|          3|     80|           69|           20|     80|32.0|                   0.174| 22|      0|[3.0,80.0,69.0,20...|\n",
      "|          6|    166|           74|           20|     80|26.6|                   0.304| 66|      0|[6.0,166.0,74.0,2...|\n",
      "|          5|    110|           68|           20|     80|26.0|                   0.292| 30|      0|[5.0,110.0,68.0,2...|\n",
      "|          2|     81|           72|           15|     76|30.1|                   0.547| 25|      0|[2.0,81.0,72.0,15...|\n",
      "|          7|    195|           70|           33|    145|25.1|                   0.163| 55|      1|[7.0,195.0,70.0,3...|\n",
      "|          6|    154|           74|           32|    193|29.3|                   0.839| 39|      0|[6.0,154.0,74.0,3...|\n",
      "|          2|    117|           90|           19|     71|25.2|                   0.313| 21|      0|[2.0,117.0,90.0,1...|\n",
      "|          3|     84|           72|           32|     80|37.2|                   0.267| 28|      0|[3.0,84.0,72.0,32...|\n",
      "+-----------+-------+-------------+-------------+-------+----+------------------------+---+-------+--------------------+\n",
      "only showing top 20 rows\n",
      "\n"
     ]
    }
   ],
   "source": [
    "#display dataframe\n",
    "output_data.show()"
   ]
  },
  {
   "cell_type": "markdown",
   "id": "b703220f",
   "metadata": {
    "id": "8fSjOdfyQA99",
    "papermill": {
     "duration": 0.045032,
     "end_time": "2024-02-29T18:33:26.376369",
     "exception": false,
     "start_time": "2024-02-29T18:33:26.331337",
     "status": "completed"
    },
    "tags": []
   },
   "source": [
    "# Split Dataset & Build the Model"
   ]
  },
  {
   "cell_type": "code",
   "execution_count": 17,
   "id": "968138c3",
   "metadata": {
    "execution": {
     "iopub.execute_input": "2024-02-29T18:33:26.545528Z",
     "iopub.status.busy": "2024-02-29T18:33:26.544868Z",
     "iopub.status.idle": "2024-02-29T18:33:26.567409Z",
     "shell.execute_reply": "2024-02-29T18:33:26.566022Z"
    },
    "executionInfo": {
     "elapsed": 545,
     "status": "ok",
     "timestamp": 1709223097167,
     "user": {
      "displayName": "Raderberg VanDerBerg",
      "userId": "11445559743824918618"
     },
     "user_tz": 0
    },
    "id": "F89--FiVQQJn",
    "papermill": {
     "duration": 0.057519,
     "end_time": "2024-02-29T18:33:26.570794",
     "exception": false,
     "start_time": "2024-02-29T18:33:26.513275",
     "status": "completed"
    },
    "tags": []
   },
   "outputs": [],
   "source": [
    "#create final data\n",
    "from pyspark.ml.classification import LogisticRegression\n",
    "final_data = output_data.select('features','Outcome')"
   ]
  },
  {
   "cell_type": "code",
   "execution_count": 18,
   "id": "5f18a812",
   "metadata": {
    "execution": {
     "iopub.execute_input": "2024-02-29T18:33:26.644714Z",
     "iopub.status.busy": "2024-02-29T18:33:26.644267Z",
     "iopub.status.idle": "2024-02-29T18:33:32.031232Z",
     "shell.execute_reply": "2024-02-29T18:33:32.030238Z"
    },
    "executionInfo": {
     "elapsed": 9140,
     "status": "ok",
     "timestamp": 1709223214873,
     "user": {
      "displayName": "Raderberg VanDerBerg",
      "userId": "11445559743824918618"
     },
     "user_tz": 0
    },
    "id": "r_Nom7aZQjuN",
    "papermill": {
     "duration": 5.42146,
     "end_time": "2024-02-29T18:33:32.034199",
     "exception": false,
     "start_time": "2024-02-29T18:33:26.612739",
     "status": "completed"
    },
    "tags": []
   },
   "outputs": [
    {
     "name": "stderr",
     "output_type": "stream",
     "text": [
      "24/02/29 18:33:30 WARN InstanceBuilder: Failed to load implementation from:dev.ludovic.netlib.blas.JNIBLAS\n"
     ]
    }
   ],
   "source": [
    "#split the dataset ; build the model\n",
    "train , test = final_data.randomSplit([0.7,0.3])\n",
    "models = LogisticRegression(labelCol='Outcome')\n",
    "model = models.fit(train)"
   ]
  },
  {
   "cell_type": "code",
   "execution_count": 19,
   "id": "6ff8afc4",
   "metadata": {
    "execution": {
     "iopub.execute_input": "2024-02-29T18:33:32.094924Z",
     "iopub.status.busy": "2024-02-29T18:33:32.094086Z",
     "iopub.status.idle": "2024-02-29T18:33:32.759433Z",
     "shell.execute_reply": "2024-02-29T18:33:32.758112Z"
    },
    "executionInfo": {
     "elapsed": 1264,
     "status": "ok",
     "timestamp": 1709223271007,
     "user": {
      "displayName": "Raderberg VanDerBerg",
      "userId": "11445559743824918618"
     },
     "user_tz": 0
    },
    "id": "OljO2HcIQj7E",
    "outputId": "471682ab-f6a1-4b2f-9bed-6f645eba8149",
    "papermill": {
     "duration": 0.698873,
     "end_time": "2024-02-29T18:33:32.762559",
     "exception": false,
     "start_time": "2024-02-29T18:33:32.063686",
     "status": "completed"
    },
    "tags": []
   },
   "outputs": [
    {
     "name": "stdout",
     "output_type": "stream",
     "text": [
      "+-------+-------------------+-------------------+\n",
      "|summary|            Outcome|         prediction|\n",
      "+-------+-------------------+-------------------+\n",
      "|  count|               1441|               1441|\n",
      "|   mean|0.33726578764746706| 0.2532963219986121|\n",
      "| stddev| 0.4729405847133231|0.43505015872255276|\n",
      "|    min|                0.0|                0.0|\n",
      "|    max|                1.0|                1.0|\n",
      "+-------+-------------------+-------------------+\n",
      "\n"
     ]
    }
   ],
   "source": [
    "#summary of the model\n",
    "summary = model.summary\n",
    "summary.predictions.describe().show()"
   ]
  },
  {
   "cell_type": "markdown",
   "id": "191d8bf8",
   "metadata": {
    "id": "DfaD_vzfQkah",
    "papermill": {
     "duration": 0.040969,
     "end_time": "2024-02-29T18:33:32.844838",
     "exception": false,
     "start_time": "2024-02-29T18:33:32.803869",
     "status": "completed"
    },
    "tags": []
   },
   "source": [
    "# Evaluate and Save the Model"
   ]
  },
  {
   "cell_type": "code",
   "execution_count": 20,
   "id": "cc80a9d8",
   "metadata": {
    "execution": {
     "iopub.execute_input": "2024-02-29T18:33:32.926704Z",
     "iopub.status.busy": "2024-02-29T18:33:32.926209Z",
     "iopub.status.idle": "2024-02-29T18:33:33.238533Z",
     "shell.execute_reply": "2024-02-29T18:33:33.237224Z"
    },
    "executionInfo": {
     "elapsed": 667,
     "status": "ok",
     "timestamp": 1709223386447,
     "user": {
      "displayName": "Raderberg VanDerBerg",
      "userId": "11445559743824918618"
     },
     "user_tz": 0
    },
    "id": "CHC5Erq7Q4QN",
    "papermill": {
     "duration": 0.35673,
     "end_time": "2024-02-29T18:33:33.243416",
     "exception": false,
     "start_time": "2024-02-29T18:33:32.886686",
     "status": "completed"
    },
    "tags": []
   },
   "outputs": [],
   "source": [
    "from pyspark.ml.evaluation import BinaryClassificationEvaluator\n",
    "predictions = model.evaluate(test)"
   ]
  },
  {
   "cell_type": "code",
   "execution_count": 21,
   "id": "1ac946e3",
   "metadata": {
    "execution": {
     "iopub.execute_input": "2024-02-29T18:33:33.323372Z",
     "iopub.status.busy": "2024-02-29T18:33:33.322848Z",
     "iopub.status.idle": "2024-02-29T18:33:33.646139Z",
     "shell.execute_reply": "2024-02-29T18:33:33.644721Z"
    },
    "executionInfo": {
     "elapsed": 758,
     "status": "ok",
     "timestamp": 1709223408762,
     "user": {
      "displayName": "Raderberg VanDerBerg",
      "userId": "11445559743824918618"
     },
     "user_tz": 0
    },
    "id": "UBltVqoNQ4cM",
    "outputId": "93db6396-ff15-4c5d-f8d2-7654185401c3",
    "papermill": {
     "duration": 0.364834,
     "end_time": "2024-02-29T18:33:33.650498",
     "exception": false,
     "start_time": "2024-02-29T18:33:33.285664",
     "status": "completed"
    },
    "tags": []
   },
   "outputs": [
    {
     "name": "stdout",
     "output_type": "stream",
     "text": [
      "+--------------------+-------+--------------------+--------------------+----------+\n",
      "|            features|Outcome|       rawPrediction|         probability|prediction|\n",
      "+--------------------+-------+--------------------+--------------------+----------+\n",
      "|[0.0,57.0,60.0,20...|      0|[3.88938059888617...|[0.97995212585566...|       0.0|\n",
      "|[0.0,67.0,76.0,20...|      0|[2.49214109577314...|[0.92358904185980...|       0.0|\n",
      "|[0.0,84.0,64.0,22...|      0|[2.45394707393123...|[0.92084961397805...|       0.0|\n",
      "|[0.0,84.0,64.0,22...|      0|[2.45394707393123...|[0.92084961397805...|       0.0|\n",
      "|[0.0,84.0,82.0,31...|      0|[2.70380898872951...|[0.93725102986408...|       0.0|\n",
      "|[0.0,86.0,68.0,32...|      0|[2.60257991764861...|[0.93102743431459...|       0.0|\n",
      "|[0.0,91.0,68.0,32...|      0|[2.18742183964402...|[0.89911428773831...|       0.0|\n",
      "|[0.0,91.0,68.0,32...|      0|[2.18742183964402...|[0.89911428773831...|       0.0|\n",
      "|[0.0,93.0,60.0,20...|      0|[2.33890498936359...|[0.91204828719158...|       0.0|\n",
      "|[0.0,93.0,60.0,25...|      0|[2.66000433872830...|[0.93462493167629...|       0.0|\n",
      "|[0.0,93.0,100.0,3...|      0|[1.14585569701378...|[0.75875312917341...|       0.0|\n",
      "|[0.0,93.0,100.0,3...|      0|[1.14585569701378...|[0.75875312917341...|       0.0|\n",
      "|[0.0,94.0,69.0,20...|      0|[2.62905919748209...|[0.93270852554401...|       0.0|\n",
      "|[0.0,95.0,80.0,45...|      0|[2.16478308343664...|[0.89704214202855...|       0.0|\n",
      "|[0.0,95.0,80.0,45...|      0|[2.16478308343664...|[0.89704214202855...|       0.0|\n",
      "|[0.0,95.0,85.0,25...|      1|[2.21188405079915...|[0.90131163795376...|       0.0|\n",
      "|[0.0,95.0,85.0,25...|      1|[2.21188405079915...|[0.90131163795376...|       0.0|\n",
      "|[0.0,97.0,64.0,36...|      0|[1.77876145166284...|[0.85554386289777...|       0.0|\n",
      "|[0.0,99.0,69.0,20...|      0|[3.01903012101398...|[0.95342647749674...|       0.0|\n",
      "|[0.0,99.0,69.0,20...|      0|[3.01903012101398...|[0.95342647749674...|       0.0|\n",
      "+--------------------+-------+--------------------+--------------------+----------+\n",
      "only showing top 20 rows\n",
      "\n"
     ]
    }
   ],
   "source": [
    "predictions.predictions.show(20)"
   ]
  },
  {
   "cell_type": "code",
   "execution_count": 22,
   "id": "b322c2f3",
   "metadata": {
    "execution": {
     "iopub.execute_input": "2024-02-29T18:33:33.714952Z",
     "iopub.status.busy": "2024-02-29T18:33:33.714456Z",
     "iopub.status.idle": "2024-02-29T18:33:34.679111Z",
     "shell.execute_reply": "2024-02-29T18:33:34.677231Z"
    },
    "executionInfo": {
     "elapsed": 1785,
     "status": "ok",
     "timestamp": 1709223625680,
     "user": {
      "displayName": "Raderberg VanDerBerg",
      "userId": "11445559743824918618"
     },
     "user_tz": 0
    },
    "id": "A4BHCxCiQ4l-",
    "outputId": "c25ef63f-a702-4dd5-ad98-7599354c6976",
    "papermill": {
     "duration": 1.001059,
     "end_time": "2024-02-29T18:33:34.682687",
     "exception": false,
     "start_time": "2024-02-29T18:33:33.681628",
     "status": "completed"
    },
    "tags": []
   },
   "outputs": [
    {
     "data": {
      "text/plain": [
       "0.8204902207672297"
      ]
     },
     "execution_count": 22,
     "metadata": {},
     "output_type": "execute_result"
    }
   ],
   "source": [
    "evaluator = BinaryClassificationEvaluator(rawPredictionCol='rawPrediction',labelCol='Outcome')\n",
    "evaluator.evaluate(model.transform(test))"
   ]
  },
  {
   "cell_type": "code",
   "execution_count": 23,
   "id": "52925f9b",
   "metadata": {
    "execution": {
     "iopub.execute_input": "2024-02-29T18:33:34.773944Z",
     "iopub.status.busy": "2024-02-29T18:33:34.772216Z",
     "iopub.status.idle": "2024-02-29T18:33:36.473085Z",
     "shell.execute_reply": "2024-02-29T18:33:36.471908Z"
    },
    "executionInfo": {
     "elapsed": 2313,
     "status": "ok",
     "timestamp": 1709223642372,
     "user": {
      "displayName": "Raderberg VanDerBerg",
      "userId": "11445559743824918618"
     },
     "user_tz": 0
    },
    "id": "ERpRUFOHQ4x5",
    "papermill": {
     "duration": 1.751168,
     "end_time": "2024-02-29T18:33:36.476900",
     "exception": false,
     "start_time": "2024-02-29T18:33:34.725732",
     "status": "completed"
    },
    "tags": []
   },
   "outputs": [
    {
     "name": "stderr",
     "output_type": "stream",
     "text": [
      "                                                                                \r"
     ]
    }
   ],
   "source": [
    "# save model\n",
    "model.save(\"/kaggle/working/model\")"
   ]
  },
  {
   "cell_type": "code",
   "execution_count": 24,
   "id": "b5123adf",
   "metadata": {
    "execution": {
     "iopub.execute_input": "2024-02-29T18:33:36.566274Z",
     "iopub.status.busy": "2024-02-29T18:33:36.565740Z",
     "iopub.status.idle": "2024-02-29T18:33:37.431903Z",
     "shell.execute_reply": "2024-02-29T18:33:37.430381Z"
    },
    "executionInfo": {
     "elapsed": 808,
     "status": "ok",
     "timestamp": 1709223699135,
     "user": {
      "displayName": "Raderberg VanDerBerg",
      "userId": "11445559743824918618"
     },
     "user_tz": 0
    },
    "id": "4zSA9_KCQ47W",
    "papermill": {
     "duration": 0.914844,
     "end_time": "2024-02-29T18:33:37.435950",
     "exception": false,
     "start_time": "2024-02-29T18:33:36.521106",
     "status": "completed"
    },
    "tags": []
   },
   "outputs": [],
   "source": [
    "# load saved model back to the environment\n",
    "from pyspark.ml.classification import LogisticRegressionModel\n",
    "\n",
    "# Specify the full path to the saved model file\n",
    "model_path = '/kaggle/working/model'\n",
    "\n",
    "# Load the model\n",
    "model = LogisticRegressionModel.load(model_path)"
   ]
  },
  {
   "cell_type": "markdown",
   "id": "e6ae8976",
   "metadata": {
    "id": "Iznukr-xRANo",
    "papermill": {
     "duration": 0.030239,
     "end_time": "2024-02-29T18:33:37.501090",
     "exception": false,
     "start_time": "2024-02-29T18:33:37.470851",
     "status": "completed"
    },
    "tags": []
   },
   "source": [
    "# Performing predictions on New Data with the saved model"
   ]
  },
  {
   "cell_type": "code",
   "execution_count": 25,
   "id": "217003fc",
   "metadata": {
    "execution": {
     "iopub.execute_input": "2024-02-29T18:33:37.563321Z",
     "iopub.status.busy": "2024-02-29T18:33:37.562530Z",
     "iopub.status.idle": "2024-02-29T18:33:37.793352Z",
     "shell.execute_reply": "2024-02-29T18:33:37.792046Z"
    },
    "executionInfo": {
     "elapsed": 468,
     "status": "ok",
     "timestamp": 1709223859829,
     "user": {
      "displayName": "Raderberg VanDerBerg",
      "userId": "11445559743824918618"
     },
     "user_tz": 0
    },
    "id": "MBq2hq27RdHB",
    "papermill": {
     "duration": 0.266773,
     "end_time": "2024-02-29T18:33:37.797165",
     "exception": false,
     "start_time": "2024-02-29T18:33:37.530392",
     "status": "completed"
    },
    "tags": []
   },
   "outputs": [],
   "source": [
    "#create a new spark dataframe\n",
    "test_df = spark.read.csv(\"/kaggle/input/diabetes-prediction/diabetes_dataset/new_test.csv\",header=True,inferSchema=True)"
   ]
  },
  {
   "cell_type": "code",
   "execution_count": 26,
   "id": "bd3416e4",
   "metadata": {
    "execution": {
     "iopub.execute_input": "2024-02-29T18:33:37.879089Z",
     "iopub.status.busy": "2024-02-29T18:33:37.878560Z",
     "iopub.status.idle": "2024-02-29T18:33:37.887141Z",
     "shell.execute_reply": "2024-02-29T18:33:37.886076Z"
    },
    "executionInfo": {
     "elapsed": 212,
     "status": "ok",
     "timestamp": 1709223872818,
     "user": {
      "displayName": "Raderberg VanDerBerg",
      "userId": "11445559743824918618"
     },
     "user_tz": 0
    },
    "id": "co8K0NZsRdQB",
    "outputId": "ab309f06-da6a-46ac-e170-0b2f5b5dc01b",
    "papermill": {
     "duration": 0.049799,
     "end_time": "2024-02-29T18:33:37.889748",
     "exception": false,
     "start_time": "2024-02-29T18:33:37.839949",
     "status": "completed"
    },
    "tags": []
   },
   "outputs": [
    {
     "name": "stdout",
     "output_type": "stream",
     "text": [
      "root\n",
      " |-- Pregnancies: integer (nullable = true)\n",
      " |-- Glucose: integer (nullable = true)\n",
      " |-- BloodPressure: integer (nullable = true)\n",
      " |-- SkinThickness: integer (nullable = true)\n",
      " |-- Insulin: integer (nullable = true)\n",
      " |-- BMI: double (nullable = true)\n",
      " |-- DiabetesPedigreeFunction: double (nullable = true)\n",
      " |-- Age: integer (nullable = true)\n",
      "\n"
     ]
    }
   ],
   "source": [
    "#print the schema\n",
    "test_df.printSchema()"
   ]
  },
  {
   "cell_type": "code",
   "execution_count": 27,
   "id": "dea4396c",
   "metadata": {
    "execution": {
     "iopub.execute_input": "2024-02-29T18:33:37.953062Z",
     "iopub.status.busy": "2024-02-29T18:33:37.952556Z",
     "iopub.status.idle": "2024-02-29T18:33:37.989622Z",
     "shell.execute_reply": "2024-02-29T18:33:37.988199Z"
    },
    "executionInfo": {
     "elapsed": 204,
     "status": "ok",
     "timestamp": 1709223933983,
     "user": {
      "displayName": "Raderberg VanDerBerg",
      "userId": "11445559743824918618"
     },
     "user_tz": 0
    },
    "id": "J7jtGf4lRdaz",
    "papermill": {
     "duration": 0.073009,
     "end_time": "2024-02-29T18:33:37.993815",
     "exception": false,
     "start_time": "2024-02-29T18:33:37.920806",
     "status": "completed"
    },
    "tags": []
   },
   "outputs": [],
   "source": [
    "#create an additional feature merged column\n",
    "test_data = assembler.transform(test_df)"
   ]
  },
  {
   "cell_type": "code",
   "execution_count": 28,
   "id": "8d8bf5f1",
   "metadata": {
    "execution": {
     "iopub.execute_input": "2024-02-29T18:33:38.071927Z",
     "iopub.status.busy": "2024-02-29T18:33:38.070238Z",
     "iopub.status.idle": "2024-02-29T18:33:38.079613Z",
     "shell.execute_reply": "2024-02-29T18:33:38.077655Z"
    },
    "executionInfo": {
     "elapsed": 192,
     "status": "ok",
     "timestamp": 1709223952541,
     "user": {
      "displayName": "Raderberg VanDerBerg",
      "userId": "11445559743824918618"
     },
     "user_tz": 0
    },
    "id": "kd1glzOnRdkq",
    "outputId": "113880f6-a46d-4308-a6c2-ff3923b1bcf7",
    "papermill": {
     "duration": 0.043422,
     "end_time": "2024-02-29T18:33:38.082099",
     "exception": false,
     "start_time": "2024-02-29T18:33:38.038677",
     "status": "completed"
    },
    "tags": []
   },
   "outputs": [
    {
     "name": "stdout",
     "output_type": "stream",
     "text": [
      "root\n",
      " |-- Pregnancies: integer (nullable = true)\n",
      " |-- Glucose: integer (nullable = true)\n",
      " |-- BloodPressure: integer (nullable = true)\n",
      " |-- SkinThickness: integer (nullable = true)\n",
      " |-- Insulin: integer (nullable = true)\n",
      " |-- BMI: double (nullable = true)\n",
      " |-- DiabetesPedigreeFunction: double (nullable = true)\n",
      " |-- Age: integer (nullable = true)\n",
      " |-- features: vector (nullable = true)\n",
      "\n"
     ]
    }
   ],
   "source": [
    "#print the schema\n",
    "test_data.printSchema()"
   ]
  },
  {
   "cell_type": "code",
   "execution_count": 29,
   "id": "65374b41",
   "metadata": {
    "execution": {
     "iopub.execute_input": "2024-02-29T18:33:38.143542Z",
     "iopub.status.busy": "2024-02-29T18:33:38.143079Z",
     "iopub.status.idle": "2024-02-29T18:33:38.219723Z",
     "shell.execute_reply": "2024-02-29T18:33:38.218517Z"
    },
    "executionInfo": {
     "elapsed": 241,
     "status": "ok",
     "timestamp": 1709224002632,
     "user": {
      "displayName": "Raderberg VanDerBerg",
      "userId": "11445559743824918618"
     },
     "user_tz": 0
    },
    "id": "40Dck7K_Rdxh",
    "outputId": "c4a53514-1d20-499b-cddf-6bae985ff8a8",
    "papermill": {
     "duration": 0.111213,
     "end_time": "2024-02-29T18:33:38.222729",
     "exception": false,
     "start_time": "2024-02-29T18:33:38.111516",
     "status": "completed"
    },
    "tags": []
   },
   "outputs": [
    {
     "name": "stdout",
     "output_type": "stream",
     "text": [
      "root\n",
      " |-- Pregnancies: integer (nullable = true)\n",
      " |-- Glucose: integer (nullable = true)\n",
      " |-- BloodPressure: integer (nullable = true)\n",
      " |-- SkinThickness: integer (nullable = true)\n",
      " |-- Insulin: integer (nullable = true)\n",
      " |-- BMI: double (nullable = true)\n",
      " |-- DiabetesPedigreeFunction: double (nullable = true)\n",
      " |-- Age: integer (nullable = true)\n",
      " |-- features: vector (nullable = true)\n",
      " |-- rawPrediction: vector (nullable = true)\n",
      " |-- probability: vector (nullable = true)\n",
      " |-- prediction: double (nullable = false)\n",
      "\n"
     ]
    }
   ],
   "source": [
    "#use model to make predictions\n",
    "results = model.transform(test_data)\n",
    "results.printSchema()"
   ]
  },
  {
   "cell_type": "code",
   "execution_count": 30,
   "id": "e2ebc633",
   "metadata": {
    "execution": {
     "iopub.execute_input": "2024-02-29T18:33:38.285699Z",
     "iopub.status.busy": "2024-02-29T18:33:38.283913Z",
     "iopub.status.idle": "2024-02-29T18:33:38.480176Z",
     "shell.execute_reply": "2024-02-29T18:33:38.478876Z"
    },
    "executionInfo": {
     "elapsed": 426,
     "status": "ok",
     "timestamp": 1709224081261,
     "user": {
      "displayName": "Raderberg VanDerBerg",
      "userId": "11445559743824918618"
     },
     "user_tz": 0
    },
    "id": "AHpfS2SjRd7s",
    "outputId": "a5e57a3a-c5ff-43bb-8cef-7769244e783c",
    "papermill": {
     "duration": 0.231722,
     "end_time": "2024-02-29T18:33:38.484240",
     "exception": false,
     "start_time": "2024-02-29T18:33:38.252518",
     "status": "completed"
    },
    "tags": []
   },
   "outputs": [
    {
     "name": "stdout",
     "output_type": "stream",
     "text": [
      "+--------------------+----------+\n",
      "|            features|prediction|\n",
      "+--------------------+----------+\n",
      "|[1.0,190.0,78.0,3...|       1.0|\n",
      "|[0.0,80.0,84.0,36...|       0.0|\n",
      "|[2.0,138.0,82.0,4...|       1.0|\n",
      "|[1.0,110.0,63.0,4...|       1.0|\n",
      "+--------------------+----------+\n",
      "\n"
     ]
    }
   ],
   "source": [
    "#display the predictions\n",
    "results.select('features','prediction').show()"
   ]
  }
 ],
 "metadata": {
  "colab": {
   "provenance": []
  },
  "kaggle": {
   "accelerator": "none",
   "dataSources": [
    {
     "sourceId": 41298029,
     "sourceType": "kernelVersion"
    }
   ],
   "dockerImageVersionId": 30664,
   "isGpuEnabled": false,
   "isInternetEnabled": true,
   "language": "python",
   "sourceType": "notebook"
  },
  "kernelspec": {
   "display_name": "Python 3",
   "language": "python",
   "name": "python3"
  },
  "language_info": {
   "codemirror_mode": {
    "name": "ipython",
    "version": 3
   },
   "file_extension": ".py",
   "mimetype": "text/x-python",
   "name": "python",
   "nbconvert_exporter": "python",
   "pygments_lexer": "ipython3",
   "version": "3.10.13"
  },
  "papermill": {
   "default_parameters": {},
   "duration": 104.07307,
   "end_time": "2024-02-29T18:33:41.149621",
   "environment_variables": {},
   "exception": null,
   "input_path": "__notebook__.ipynb",
   "output_path": "__notebook__.ipynb",
   "parameters": {},
   "start_time": "2024-02-29T18:31:57.076551",
   "version": "2.5.0"
  }
 },
 "nbformat": 4,
 "nbformat_minor": 5
}
